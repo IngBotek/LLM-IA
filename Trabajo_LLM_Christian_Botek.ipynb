{
  "nbformat": 4,
  "nbformat_minor": 0,
  "metadata": {
    "colab": {
      "provenance": [],
      "gpuType": "T4"
    },
    "kernelspec": {
      "name": "python3",
      "display_name": "Python 3"
    },
    "language_info": {
      "name": "python"
    },
    "accelerator": "GPU"
  },
  "cells": [
    {
      "cell_type": "markdown",
      "source": [
        "#Trabajo final de LLM\n",
        "\n",
        "#Clasificador de sentimientos de productos de [amazon](https://huggingface.co/datasets/amazon_polarity)\n",
        "\n",
        "\n",
        "###**Alumno: Christian Canaan Castro Botek**\n",
        "\n",
        "***Especialización en Inteligencia Artificial***\n",
        "\n",
        "***FIUBA***"
      ],
      "metadata": {
        "id": "rRIsT_p5y9ut"
      }
    },
    {
      "cell_type": "markdown",
      "source": [
        "**Introducción:** En el presente trabajo utilizaremos un modelo de lenguaje grande (LLM) para resolver un problema de clasificación de sentimientos en reseñas de productos de amazon.\n",
        "\n"
      ],
      "metadata": {
        "id": "lMqtHazU1N4y"
      }
    },
    {
      "cell_type": "markdown",
      "source": [
        "Los datos abarcan un período de 18 años, incluidas ~35 millones de reseñas hasta marzo de 2013. Las reseñas incluyen información sobre productos y usuarios, calificaciones y una reseña en texto sin formato.\n",
        "\n",
        "*'title': una cadena que contiene el título de la reseña, con comillas dobles (\"\") y cualquier comilla doble interna con 2 comillas dobles (\"\"). Las nuevas líneas tienen como escape una barra invertida seguida de un carácter \"n\". , es decir \"\\n\".\n",
        "'content': una cadena que contiene el cuerpo del documento, con comillas dobles (\"\") y cualquier comilla doble interna con 2 comillas dobles (\"\"). Las nuevas líneas tienen como escape una barra invertida seguida de un carácter \"n\". , es decir \"\\n\".\n",
        "'label': calificación 1 (positiva) o 0 (negativa).*\n",
        "\n",
        "Para el entrenamiento no usaremos todo el dataset, solo una porción reducida del mismo para mantenernos al margen de los tiempo de ejecución que ofrece el Colab versión free con GPU incluida."
      ],
      "metadata": {
        "id": "PW6dJcQt1yQn"
      }
    },
    {
      "cell_type": "markdown",
      "source": [
        "# 1. Instalación de bibliotecas\n",
        "\n",
        "Hacemos uso de 3 bibliotecas:\n",
        "\n",
        "**datasets:** Dada por HuggingFace para cargar directamente el dataset y proporciona algunas herramientas de manipulación y preprocesamiento de datos.\n",
        "\n",
        "**transformers:** Dada por HuggingFace para la implementación de modelos de NPL preentrenados, como el modelo BERT que usaremos en este proyecto.\n",
        "\n",
        "**scikit-learn:** Proporciona una variedad de herramientas para tareas de clasificación, regresión, clustering, preprocesamiento de datos, y evaluación de modelos. En este proyecto solo la usamos para definir una función de calculo de métricas.\n",
        "\n"
      ],
      "metadata": {
        "id": "KGlfQScqcPaI"
      }
    },
    {
      "cell_type": "code",
      "source": [
        "# Instalación de bibliotecas\n",
        "!pip install -U transformers datasets evaluate accelerate\n",
        "!pip install tensorboard tensorboardX\n",
        "!pip install transformers\n",
        "!pip install transformers[torch]\n",
        "!pip install accelerate -U\n",
        "!pip install datasets\n",
        "!pip install torch\n",
        "!pip install scikit-learn"
      ],
      "metadata": {
        "colab": {
          "base_uri": "https://localhost:8080/"
        },
        "id": "CUuTOpvevahv",
        "outputId": "666874f0-f602-46f9-fbd4-2d77c16c7167"
      },
      "execution_count": 25,
      "outputs": [
        {
          "output_type": "stream",
          "name": "stdout",
          "text": [
            "Requirement already satisfied: transformers in /usr/local/lib/python3.10/dist-packages (4.41.1)\n",
            "Requirement already satisfied: datasets in /usr/local/lib/python3.10/dist-packages (2.19.1)\n",
            "Requirement already satisfied: evaluate in /usr/local/lib/python3.10/dist-packages (0.4.2)\n",
            "Requirement already satisfied: accelerate in /usr/local/lib/python3.10/dist-packages (0.30.1)\n",
            "Requirement already satisfied: filelock in /usr/local/lib/python3.10/dist-packages (from transformers) (3.14.0)\n",
            "Requirement already satisfied: huggingface-hub<1.0,>=0.23.0 in /usr/local/lib/python3.10/dist-packages (from transformers) (0.23.1)\n",
            "Requirement already satisfied: numpy>=1.17 in /usr/local/lib/python3.10/dist-packages (from transformers) (1.25.2)\n",
            "Requirement already satisfied: packaging>=20.0 in /usr/local/lib/python3.10/dist-packages (from transformers) (24.0)\n",
            "Requirement already satisfied: pyyaml>=5.1 in /usr/local/lib/python3.10/dist-packages (from transformers) (6.0.1)\n",
            "Requirement already satisfied: regex!=2019.12.17 in /usr/local/lib/python3.10/dist-packages (from transformers) (2024.5.15)\n",
            "Requirement already satisfied: requests in /usr/local/lib/python3.10/dist-packages (from transformers) (2.31.0)\n",
            "Requirement already satisfied: tokenizers<0.20,>=0.19 in /usr/local/lib/python3.10/dist-packages (from transformers) (0.19.1)\n",
            "Requirement already satisfied: safetensors>=0.4.1 in /usr/local/lib/python3.10/dist-packages (from transformers) (0.4.3)\n",
            "Requirement already satisfied: tqdm>=4.27 in /usr/local/lib/python3.10/dist-packages (from transformers) (4.66.4)\n",
            "Requirement already satisfied: pyarrow>=12.0.0 in /usr/local/lib/python3.10/dist-packages (from datasets) (14.0.2)\n",
            "Requirement already satisfied: pyarrow-hotfix in /usr/local/lib/python3.10/dist-packages (from datasets) (0.6)\n",
            "Requirement already satisfied: dill<0.3.9,>=0.3.0 in /usr/local/lib/python3.10/dist-packages (from datasets) (0.3.8)\n",
            "Requirement already satisfied: pandas in /usr/local/lib/python3.10/dist-packages (from datasets) (2.0.3)\n",
            "Requirement already satisfied: xxhash in /usr/local/lib/python3.10/dist-packages (from datasets) (3.4.1)\n",
            "Requirement already satisfied: multiprocess in /usr/local/lib/python3.10/dist-packages (from datasets) (0.70.16)\n",
            "Requirement already satisfied: fsspec[http]<=2024.3.1,>=2023.1.0 in /usr/local/lib/python3.10/dist-packages (from datasets) (2023.6.0)\n",
            "Requirement already satisfied: aiohttp in /usr/local/lib/python3.10/dist-packages (from datasets) (3.9.5)\n",
            "Requirement already satisfied: psutil in /usr/local/lib/python3.10/dist-packages (from accelerate) (5.9.5)\n",
            "Requirement already satisfied: torch>=1.10.0 in /usr/local/lib/python3.10/dist-packages (from accelerate) (2.3.0+cu121)\n",
            "Requirement already satisfied: aiosignal>=1.1.2 in /usr/local/lib/python3.10/dist-packages (from aiohttp->datasets) (1.3.1)\n",
            "Requirement already satisfied: attrs>=17.3.0 in /usr/local/lib/python3.10/dist-packages (from aiohttp->datasets) (23.2.0)\n",
            "Requirement already satisfied: frozenlist>=1.1.1 in /usr/local/lib/python3.10/dist-packages (from aiohttp->datasets) (1.4.1)\n",
            "Requirement already satisfied: multidict<7.0,>=4.5 in /usr/local/lib/python3.10/dist-packages (from aiohttp->datasets) (6.0.5)\n",
            "Requirement already satisfied: yarl<2.0,>=1.0 in /usr/local/lib/python3.10/dist-packages (from aiohttp->datasets) (1.9.4)\n",
            "Requirement already satisfied: async-timeout<5.0,>=4.0 in /usr/local/lib/python3.10/dist-packages (from aiohttp->datasets) (4.0.3)\n",
            "Requirement already satisfied: typing-extensions>=3.7.4.3 in /usr/local/lib/python3.10/dist-packages (from huggingface-hub<1.0,>=0.23.0->transformers) (4.11.0)\n",
            "Requirement already satisfied: charset-normalizer<4,>=2 in /usr/local/lib/python3.10/dist-packages (from requests->transformers) (3.3.2)\n",
            "Requirement already satisfied: idna<4,>=2.5 in /usr/local/lib/python3.10/dist-packages (from requests->transformers) (3.7)\n",
            "Requirement already satisfied: urllib3<3,>=1.21.1 in /usr/local/lib/python3.10/dist-packages (from requests->transformers) (2.0.7)\n",
            "Requirement already satisfied: certifi>=2017.4.17 in /usr/local/lib/python3.10/dist-packages (from requests->transformers) (2024.2.2)\n",
            "Requirement already satisfied: sympy in /usr/local/lib/python3.10/dist-packages (from torch>=1.10.0->accelerate) (1.12)\n",
            "Requirement already satisfied: networkx in /usr/local/lib/python3.10/dist-packages (from torch>=1.10.0->accelerate) (3.3)\n",
            "Requirement already satisfied: jinja2 in /usr/local/lib/python3.10/dist-packages (from torch>=1.10.0->accelerate) (3.1.4)\n",
            "Requirement already satisfied: nvidia-cuda-nvrtc-cu12==12.1.105 in /usr/local/lib/python3.10/dist-packages (from torch>=1.10.0->accelerate) (12.1.105)\n",
            "Requirement already satisfied: nvidia-cuda-runtime-cu12==12.1.105 in /usr/local/lib/python3.10/dist-packages (from torch>=1.10.0->accelerate) (12.1.105)\n",
            "Requirement already satisfied: nvidia-cuda-cupti-cu12==12.1.105 in /usr/local/lib/python3.10/dist-packages (from torch>=1.10.0->accelerate) (12.1.105)\n",
            "Requirement already satisfied: nvidia-cudnn-cu12==8.9.2.26 in /usr/local/lib/python3.10/dist-packages (from torch>=1.10.0->accelerate) (8.9.2.26)\n",
            "Requirement already satisfied: nvidia-cublas-cu12==12.1.3.1 in /usr/local/lib/python3.10/dist-packages (from torch>=1.10.0->accelerate) (12.1.3.1)\n",
            "Requirement already satisfied: nvidia-cufft-cu12==11.0.2.54 in /usr/local/lib/python3.10/dist-packages (from torch>=1.10.0->accelerate) (11.0.2.54)\n",
            "Requirement already satisfied: nvidia-curand-cu12==10.3.2.106 in /usr/local/lib/python3.10/dist-packages (from torch>=1.10.0->accelerate) (10.3.2.106)\n",
            "Requirement already satisfied: nvidia-cusolver-cu12==11.4.5.107 in /usr/local/lib/python3.10/dist-packages (from torch>=1.10.0->accelerate) (11.4.5.107)\n",
            "Requirement already satisfied: nvidia-cusparse-cu12==12.1.0.106 in /usr/local/lib/python3.10/dist-packages (from torch>=1.10.0->accelerate) (12.1.0.106)\n",
            "Requirement already satisfied: nvidia-nccl-cu12==2.20.5 in /usr/local/lib/python3.10/dist-packages (from torch>=1.10.0->accelerate) (2.20.5)\n",
            "Requirement already satisfied: nvidia-nvtx-cu12==12.1.105 in /usr/local/lib/python3.10/dist-packages (from torch>=1.10.0->accelerate) (12.1.105)\n",
            "Requirement already satisfied: triton==2.3.0 in /usr/local/lib/python3.10/dist-packages (from torch>=1.10.0->accelerate) (2.3.0)\n",
            "Requirement already satisfied: nvidia-nvjitlink-cu12 in /usr/local/lib/python3.10/dist-packages (from nvidia-cusolver-cu12==11.4.5.107->torch>=1.10.0->accelerate) (12.5.40)\n",
            "Requirement already satisfied: python-dateutil>=2.8.2 in /usr/local/lib/python3.10/dist-packages (from pandas->datasets) (2.8.2)\n",
            "Requirement already satisfied: pytz>=2020.1 in /usr/local/lib/python3.10/dist-packages (from pandas->datasets) (2023.4)\n",
            "Requirement already satisfied: tzdata>=2022.1 in /usr/local/lib/python3.10/dist-packages (from pandas->datasets) (2024.1)\n",
            "Requirement already satisfied: six>=1.5 in /usr/local/lib/python3.10/dist-packages (from python-dateutil>=2.8.2->pandas->datasets) (1.16.0)\n",
            "Requirement already satisfied: MarkupSafe>=2.0 in /usr/local/lib/python3.10/dist-packages (from jinja2->torch>=1.10.0->accelerate) (2.1.5)\n",
            "Requirement already satisfied: mpmath>=0.19 in /usr/local/lib/python3.10/dist-packages (from sympy->torch>=1.10.0->accelerate) (1.3.0)\n",
            "Requirement already satisfied: tensorboard in /usr/local/lib/python3.10/dist-packages (2.15.2)\n",
            "Requirement already satisfied: tensorboardX in /usr/local/lib/python3.10/dist-packages (2.6.2.2)\n",
            "Requirement already satisfied: absl-py>=0.4 in /usr/local/lib/python3.10/dist-packages (from tensorboard) (1.4.0)\n",
            "Requirement already satisfied: grpcio>=1.48.2 in /usr/local/lib/python3.10/dist-packages (from tensorboard) (1.64.0)\n",
            "Requirement already satisfied: google-auth<3,>=1.6.3 in /usr/local/lib/python3.10/dist-packages (from tensorboard) (2.27.0)\n",
            "Requirement already satisfied: google-auth-oauthlib<2,>=0.5 in /usr/local/lib/python3.10/dist-packages (from tensorboard) (1.2.0)\n",
            "Requirement already satisfied: markdown>=2.6.8 in /usr/local/lib/python3.10/dist-packages (from tensorboard) (3.6)\n",
            "Requirement already satisfied: numpy>=1.12.0 in /usr/local/lib/python3.10/dist-packages (from tensorboard) (1.25.2)\n",
            "Requirement already satisfied: protobuf!=4.24.0,>=3.19.6 in /usr/local/lib/python3.10/dist-packages (from tensorboard) (3.20.3)\n",
            "Requirement already satisfied: requests<3,>=2.21.0 in /usr/local/lib/python3.10/dist-packages (from tensorboard) (2.31.0)\n",
            "Requirement already satisfied: setuptools>=41.0.0 in /usr/local/lib/python3.10/dist-packages (from tensorboard) (67.7.2)\n",
            "Requirement already satisfied: six>1.9 in /usr/local/lib/python3.10/dist-packages (from tensorboard) (1.16.0)\n",
            "Requirement already satisfied: tensorboard-data-server<0.8.0,>=0.7.0 in /usr/local/lib/python3.10/dist-packages (from tensorboard) (0.7.2)\n",
            "Requirement already satisfied: werkzeug>=1.0.1 in /usr/local/lib/python3.10/dist-packages (from tensorboard) (3.0.3)\n",
            "Requirement already satisfied: packaging in /usr/local/lib/python3.10/dist-packages (from tensorboardX) (24.0)\n",
            "Requirement already satisfied: cachetools<6.0,>=2.0.0 in /usr/local/lib/python3.10/dist-packages (from google-auth<3,>=1.6.3->tensorboard) (5.3.3)\n",
            "Requirement already satisfied: pyasn1-modules>=0.2.1 in /usr/local/lib/python3.10/dist-packages (from google-auth<3,>=1.6.3->tensorboard) (0.4.0)\n",
            "Requirement already satisfied: rsa<5,>=3.1.4 in /usr/local/lib/python3.10/dist-packages (from google-auth<3,>=1.6.3->tensorboard) (4.9)\n",
            "Requirement already satisfied: requests-oauthlib>=0.7.0 in /usr/local/lib/python3.10/dist-packages (from google-auth-oauthlib<2,>=0.5->tensorboard) (1.3.1)\n",
            "Requirement already satisfied: charset-normalizer<4,>=2 in /usr/local/lib/python3.10/dist-packages (from requests<3,>=2.21.0->tensorboard) (3.3.2)\n",
            "Requirement already satisfied: idna<4,>=2.5 in /usr/local/lib/python3.10/dist-packages (from requests<3,>=2.21.0->tensorboard) (3.7)\n",
            "Requirement already satisfied: urllib3<3,>=1.21.1 in /usr/local/lib/python3.10/dist-packages (from requests<3,>=2.21.0->tensorboard) (2.0.7)\n",
            "Requirement already satisfied: certifi>=2017.4.17 in /usr/local/lib/python3.10/dist-packages (from requests<3,>=2.21.0->tensorboard) (2024.2.2)\n",
            "Requirement already satisfied: MarkupSafe>=2.1.1 in /usr/local/lib/python3.10/dist-packages (from werkzeug>=1.0.1->tensorboard) (2.1.5)\n",
            "Requirement already satisfied: pyasn1<0.7.0,>=0.4.6 in /usr/local/lib/python3.10/dist-packages (from pyasn1-modules>=0.2.1->google-auth<3,>=1.6.3->tensorboard) (0.6.0)\n",
            "Requirement already satisfied: oauthlib>=3.0.0 in /usr/local/lib/python3.10/dist-packages (from requests-oauthlib>=0.7.0->google-auth-oauthlib<2,>=0.5->tensorboard) (3.2.2)\n",
            "Requirement already satisfied: transformers in /usr/local/lib/python3.10/dist-packages (4.41.1)\n",
            "Requirement already satisfied: filelock in /usr/local/lib/python3.10/dist-packages (from transformers) (3.14.0)\n",
            "Requirement already satisfied: huggingface-hub<1.0,>=0.23.0 in /usr/local/lib/python3.10/dist-packages (from transformers) (0.23.1)\n",
            "Requirement already satisfied: numpy>=1.17 in /usr/local/lib/python3.10/dist-packages (from transformers) (1.25.2)\n",
            "Requirement already satisfied: packaging>=20.0 in /usr/local/lib/python3.10/dist-packages (from transformers) (24.0)\n",
            "Requirement already satisfied: pyyaml>=5.1 in /usr/local/lib/python3.10/dist-packages (from transformers) (6.0.1)\n",
            "Requirement already satisfied: regex!=2019.12.17 in /usr/local/lib/python3.10/dist-packages (from transformers) (2024.5.15)\n",
            "Requirement already satisfied: requests in /usr/local/lib/python3.10/dist-packages (from transformers) (2.31.0)\n",
            "Requirement already satisfied: tokenizers<0.20,>=0.19 in /usr/local/lib/python3.10/dist-packages (from transformers) (0.19.1)\n",
            "Requirement already satisfied: safetensors>=0.4.1 in /usr/local/lib/python3.10/dist-packages (from transformers) (0.4.3)\n",
            "Requirement already satisfied: tqdm>=4.27 in /usr/local/lib/python3.10/dist-packages (from transformers) (4.66.4)\n",
            "Requirement already satisfied: fsspec>=2023.5.0 in /usr/local/lib/python3.10/dist-packages (from huggingface-hub<1.0,>=0.23.0->transformers) (2023.6.0)\n",
            "Requirement already satisfied: typing-extensions>=3.7.4.3 in /usr/local/lib/python3.10/dist-packages (from huggingface-hub<1.0,>=0.23.0->transformers) (4.11.0)\n",
            "Requirement already satisfied: charset-normalizer<4,>=2 in /usr/local/lib/python3.10/dist-packages (from requests->transformers) (3.3.2)\n",
            "Requirement already satisfied: idna<4,>=2.5 in /usr/local/lib/python3.10/dist-packages (from requests->transformers) (3.7)\n",
            "Requirement already satisfied: urllib3<3,>=1.21.1 in /usr/local/lib/python3.10/dist-packages (from requests->transformers) (2.0.7)\n",
            "Requirement already satisfied: certifi>=2017.4.17 in /usr/local/lib/python3.10/dist-packages (from requests->transformers) (2024.2.2)\n",
            "Requirement already satisfied: transformers[torch] in /usr/local/lib/python3.10/dist-packages (4.41.1)\n",
            "Requirement already satisfied: filelock in /usr/local/lib/python3.10/dist-packages (from transformers[torch]) (3.14.0)\n",
            "Requirement already satisfied: huggingface-hub<1.0,>=0.23.0 in /usr/local/lib/python3.10/dist-packages (from transformers[torch]) (0.23.1)\n",
            "Requirement already satisfied: numpy>=1.17 in /usr/local/lib/python3.10/dist-packages (from transformers[torch]) (1.25.2)\n",
            "Requirement already satisfied: packaging>=20.0 in /usr/local/lib/python3.10/dist-packages (from transformers[torch]) (24.0)\n",
            "Requirement already satisfied: pyyaml>=5.1 in /usr/local/lib/python3.10/dist-packages (from transformers[torch]) (6.0.1)\n",
            "Requirement already satisfied: regex!=2019.12.17 in /usr/local/lib/python3.10/dist-packages (from transformers[torch]) (2024.5.15)\n",
            "Requirement already satisfied: requests in /usr/local/lib/python3.10/dist-packages (from transformers[torch]) (2.31.0)\n",
            "Requirement already satisfied: tokenizers<0.20,>=0.19 in /usr/local/lib/python3.10/dist-packages (from transformers[torch]) (0.19.1)\n",
            "Requirement already satisfied: safetensors>=0.4.1 in /usr/local/lib/python3.10/dist-packages (from transformers[torch]) (0.4.3)\n",
            "Requirement already satisfied: tqdm>=4.27 in /usr/local/lib/python3.10/dist-packages (from transformers[torch]) (4.66.4)\n",
            "Requirement already satisfied: torch in /usr/local/lib/python3.10/dist-packages (from transformers[torch]) (2.3.0+cu121)\n",
            "Requirement already satisfied: accelerate>=0.21.0 in /usr/local/lib/python3.10/dist-packages (from transformers[torch]) (0.30.1)\n",
            "Requirement already satisfied: psutil in /usr/local/lib/python3.10/dist-packages (from accelerate>=0.21.0->transformers[torch]) (5.9.5)\n",
            "Requirement already satisfied: fsspec>=2023.5.0 in /usr/local/lib/python3.10/dist-packages (from huggingface-hub<1.0,>=0.23.0->transformers[torch]) (2023.6.0)\n",
            "Requirement already satisfied: typing-extensions>=3.7.4.3 in /usr/local/lib/python3.10/dist-packages (from huggingface-hub<1.0,>=0.23.0->transformers[torch]) (4.11.0)\n",
            "Requirement already satisfied: sympy in /usr/local/lib/python3.10/dist-packages (from torch->transformers[torch]) (1.12)\n",
            "Requirement already satisfied: networkx in /usr/local/lib/python3.10/dist-packages (from torch->transformers[torch]) (3.3)\n",
            "Requirement already satisfied: jinja2 in /usr/local/lib/python3.10/dist-packages (from torch->transformers[torch]) (3.1.4)\n",
            "Requirement already satisfied: nvidia-cuda-nvrtc-cu12==12.1.105 in /usr/local/lib/python3.10/dist-packages (from torch->transformers[torch]) (12.1.105)\n",
            "Requirement already satisfied: nvidia-cuda-runtime-cu12==12.1.105 in /usr/local/lib/python3.10/dist-packages (from torch->transformers[torch]) (12.1.105)\n",
            "Requirement already satisfied: nvidia-cuda-cupti-cu12==12.1.105 in /usr/local/lib/python3.10/dist-packages (from torch->transformers[torch]) (12.1.105)\n",
            "Requirement already satisfied: nvidia-cudnn-cu12==8.9.2.26 in /usr/local/lib/python3.10/dist-packages (from torch->transformers[torch]) (8.9.2.26)\n",
            "Requirement already satisfied: nvidia-cublas-cu12==12.1.3.1 in /usr/local/lib/python3.10/dist-packages (from torch->transformers[torch]) (12.1.3.1)\n",
            "Requirement already satisfied: nvidia-cufft-cu12==11.0.2.54 in /usr/local/lib/python3.10/dist-packages (from torch->transformers[torch]) (11.0.2.54)\n",
            "Requirement already satisfied: nvidia-curand-cu12==10.3.2.106 in /usr/local/lib/python3.10/dist-packages (from torch->transformers[torch]) (10.3.2.106)\n",
            "Requirement already satisfied: nvidia-cusolver-cu12==11.4.5.107 in /usr/local/lib/python3.10/dist-packages (from torch->transformers[torch]) (11.4.5.107)\n",
            "Requirement already satisfied: nvidia-cusparse-cu12==12.1.0.106 in /usr/local/lib/python3.10/dist-packages (from torch->transformers[torch]) (12.1.0.106)\n",
            "Requirement already satisfied: nvidia-nccl-cu12==2.20.5 in /usr/local/lib/python3.10/dist-packages (from torch->transformers[torch]) (2.20.5)\n",
            "Requirement already satisfied: nvidia-nvtx-cu12==12.1.105 in /usr/local/lib/python3.10/dist-packages (from torch->transformers[torch]) (12.1.105)\n",
            "Requirement already satisfied: triton==2.3.0 in /usr/local/lib/python3.10/dist-packages (from torch->transformers[torch]) (2.3.0)\n",
            "Requirement already satisfied: nvidia-nvjitlink-cu12 in /usr/local/lib/python3.10/dist-packages (from nvidia-cusolver-cu12==11.4.5.107->torch->transformers[torch]) (12.5.40)\n",
            "Requirement already satisfied: charset-normalizer<4,>=2 in /usr/local/lib/python3.10/dist-packages (from requests->transformers[torch]) (3.3.2)\n",
            "Requirement already satisfied: idna<4,>=2.5 in /usr/local/lib/python3.10/dist-packages (from requests->transformers[torch]) (3.7)\n",
            "Requirement already satisfied: urllib3<3,>=1.21.1 in /usr/local/lib/python3.10/dist-packages (from requests->transformers[torch]) (2.0.7)\n",
            "Requirement already satisfied: certifi>=2017.4.17 in /usr/local/lib/python3.10/dist-packages (from requests->transformers[torch]) (2024.2.2)\n",
            "Requirement already satisfied: MarkupSafe>=2.0 in /usr/local/lib/python3.10/dist-packages (from jinja2->torch->transformers[torch]) (2.1.5)\n",
            "Requirement already satisfied: mpmath>=0.19 in /usr/local/lib/python3.10/dist-packages (from sympy->torch->transformers[torch]) (1.3.0)\n",
            "Requirement already satisfied: accelerate in /usr/local/lib/python3.10/dist-packages (0.30.1)\n",
            "Requirement already satisfied: numpy>=1.17 in /usr/local/lib/python3.10/dist-packages (from accelerate) (1.25.2)\n",
            "Requirement already satisfied: packaging>=20.0 in /usr/local/lib/python3.10/dist-packages (from accelerate) (24.0)\n",
            "Requirement already satisfied: psutil in /usr/local/lib/python3.10/dist-packages (from accelerate) (5.9.5)\n",
            "Requirement already satisfied: pyyaml in /usr/local/lib/python3.10/dist-packages (from accelerate) (6.0.1)\n",
            "Requirement already satisfied: torch>=1.10.0 in /usr/local/lib/python3.10/dist-packages (from accelerate) (2.3.0+cu121)\n",
            "Requirement already satisfied: huggingface-hub in /usr/local/lib/python3.10/dist-packages (from accelerate) (0.23.1)\n",
            "Requirement already satisfied: safetensors>=0.3.1 in /usr/local/lib/python3.10/dist-packages (from accelerate) (0.4.3)\n",
            "Requirement already satisfied: filelock in /usr/local/lib/python3.10/dist-packages (from torch>=1.10.0->accelerate) (3.14.0)\n",
            "Requirement already satisfied: typing-extensions>=4.8.0 in /usr/local/lib/python3.10/dist-packages (from torch>=1.10.0->accelerate) (4.11.0)\n",
            "Requirement already satisfied: sympy in /usr/local/lib/python3.10/dist-packages (from torch>=1.10.0->accelerate) (1.12)\n",
            "Requirement already satisfied: networkx in /usr/local/lib/python3.10/dist-packages (from torch>=1.10.0->accelerate) (3.3)\n",
            "Requirement already satisfied: jinja2 in /usr/local/lib/python3.10/dist-packages (from torch>=1.10.0->accelerate) (3.1.4)\n",
            "Requirement already satisfied: fsspec in /usr/local/lib/python3.10/dist-packages (from torch>=1.10.0->accelerate) (2023.6.0)\n",
            "Requirement already satisfied: nvidia-cuda-nvrtc-cu12==12.1.105 in /usr/local/lib/python3.10/dist-packages (from torch>=1.10.0->accelerate) (12.1.105)\n",
            "Requirement already satisfied: nvidia-cuda-runtime-cu12==12.1.105 in /usr/local/lib/python3.10/dist-packages (from torch>=1.10.0->accelerate) (12.1.105)\n",
            "Requirement already satisfied: nvidia-cuda-cupti-cu12==12.1.105 in /usr/local/lib/python3.10/dist-packages (from torch>=1.10.0->accelerate) (12.1.105)\n",
            "Requirement already satisfied: nvidia-cudnn-cu12==8.9.2.26 in /usr/local/lib/python3.10/dist-packages (from torch>=1.10.0->accelerate) (8.9.2.26)\n",
            "Requirement already satisfied: nvidia-cublas-cu12==12.1.3.1 in /usr/local/lib/python3.10/dist-packages (from torch>=1.10.0->accelerate) (12.1.3.1)\n",
            "Requirement already satisfied: nvidia-cufft-cu12==11.0.2.54 in /usr/local/lib/python3.10/dist-packages (from torch>=1.10.0->accelerate) (11.0.2.54)\n",
            "Requirement already satisfied: nvidia-curand-cu12==10.3.2.106 in /usr/local/lib/python3.10/dist-packages (from torch>=1.10.0->accelerate) (10.3.2.106)\n",
            "Requirement already satisfied: nvidia-cusolver-cu12==11.4.5.107 in /usr/local/lib/python3.10/dist-packages (from torch>=1.10.0->accelerate) (11.4.5.107)\n",
            "Requirement already satisfied: nvidia-cusparse-cu12==12.1.0.106 in /usr/local/lib/python3.10/dist-packages (from torch>=1.10.0->accelerate) (12.1.0.106)\n",
            "Requirement already satisfied: nvidia-nccl-cu12==2.20.5 in /usr/local/lib/python3.10/dist-packages (from torch>=1.10.0->accelerate) (2.20.5)\n",
            "Requirement already satisfied: nvidia-nvtx-cu12==12.1.105 in /usr/local/lib/python3.10/dist-packages (from torch>=1.10.0->accelerate) (12.1.105)\n",
            "Requirement already satisfied: triton==2.3.0 in /usr/local/lib/python3.10/dist-packages (from torch>=1.10.0->accelerate) (2.3.0)\n",
            "Requirement already satisfied: nvidia-nvjitlink-cu12 in /usr/local/lib/python3.10/dist-packages (from nvidia-cusolver-cu12==11.4.5.107->torch>=1.10.0->accelerate) (12.5.40)\n",
            "Requirement already satisfied: requests in /usr/local/lib/python3.10/dist-packages (from huggingface-hub->accelerate) (2.31.0)\n",
            "Requirement already satisfied: tqdm>=4.42.1 in /usr/local/lib/python3.10/dist-packages (from huggingface-hub->accelerate) (4.66.4)\n",
            "Requirement already satisfied: MarkupSafe>=2.0 in /usr/local/lib/python3.10/dist-packages (from jinja2->torch>=1.10.0->accelerate) (2.1.5)\n",
            "Requirement already satisfied: charset-normalizer<4,>=2 in /usr/local/lib/python3.10/dist-packages (from requests->huggingface-hub->accelerate) (3.3.2)\n",
            "Requirement already satisfied: idna<4,>=2.5 in /usr/local/lib/python3.10/dist-packages (from requests->huggingface-hub->accelerate) (3.7)\n",
            "Requirement already satisfied: urllib3<3,>=1.21.1 in /usr/local/lib/python3.10/dist-packages (from requests->huggingface-hub->accelerate) (2.0.7)\n",
            "Requirement already satisfied: certifi>=2017.4.17 in /usr/local/lib/python3.10/dist-packages (from requests->huggingface-hub->accelerate) (2024.2.2)\n",
            "Requirement already satisfied: mpmath>=0.19 in /usr/local/lib/python3.10/dist-packages (from sympy->torch>=1.10.0->accelerate) (1.3.0)\n",
            "Requirement already satisfied: datasets in /usr/local/lib/python3.10/dist-packages (2.19.1)\n",
            "Requirement already satisfied: filelock in /usr/local/lib/python3.10/dist-packages (from datasets) (3.14.0)\n",
            "Requirement already satisfied: numpy>=1.17 in /usr/local/lib/python3.10/dist-packages (from datasets) (1.25.2)\n",
            "Requirement already satisfied: pyarrow>=12.0.0 in /usr/local/lib/python3.10/dist-packages (from datasets) (14.0.2)\n",
            "Requirement already satisfied: pyarrow-hotfix in /usr/local/lib/python3.10/dist-packages (from datasets) (0.6)\n",
            "Requirement already satisfied: dill<0.3.9,>=0.3.0 in /usr/local/lib/python3.10/dist-packages (from datasets) (0.3.8)\n",
            "Requirement already satisfied: pandas in /usr/local/lib/python3.10/dist-packages (from datasets) (2.0.3)\n",
            "Requirement already satisfied: requests>=2.19.0 in /usr/local/lib/python3.10/dist-packages (from datasets) (2.31.0)\n",
            "Requirement already satisfied: tqdm>=4.62.1 in /usr/local/lib/python3.10/dist-packages (from datasets) (4.66.4)\n",
            "Requirement already satisfied: xxhash in /usr/local/lib/python3.10/dist-packages (from datasets) (3.4.1)\n",
            "Requirement already satisfied: multiprocess in /usr/local/lib/python3.10/dist-packages (from datasets) (0.70.16)\n",
            "Requirement already satisfied: fsspec[http]<=2024.3.1,>=2023.1.0 in /usr/local/lib/python3.10/dist-packages (from datasets) (2023.6.0)\n",
            "Requirement already satisfied: aiohttp in /usr/local/lib/python3.10/dist-packages (from datasets) (3.9.5)\n",
            "Requirement already satisfied: huggingface-hub>=0.21.2 in /usr/local/lib/python3.10/dist-packages (from datasets) (0.23.1)\n",
            "Requirement already satisfied: packaging in /usr/local/lib/python3.10/dist-packages (from datasets) (24.0)\n",
            "Requirement already satisfied: pyyaml>=5.1 in /usr/local/lib/python3.10/dist-packages (from datasets) (6.0.1)\n",
            "Requirement already satisfied: aiosignal>=1.1.2 in /usr/local/lib/python3.10/dist-packages (from aiohttp->datasets) (1.3.1)\n",
            "Requirement already satisfied: attrs>=17.3.0 in /usr/local/lib/python3.10/dist-packages (from aiohttp->datasets) (23.2.0)\n",
            "Requirement already satisfied: frozenlist>=1.1.1 in /usr/local/lib/python3.10/dist-packages (from aiohttp->datasets) (1.4.1)\n",
            "Requirement already satisfied: multidict<7.0,>=4.5 in /usr/local/lib/python3.10/dist-packages (from aiohttp->datasets) (6.0.5)\n",
            "Requirement already satisfied: yarl<2.0,>=1.0 in /usr/local/lib/python3.10/dist-packages (from aiohttp->datasets) (1.9.4)\n",
            "Requirement already satisfied: async-timeout<5.0,>=4.0 in /usr/local/lib/python3.10/dist-packages (from aiohttp->datasets) (4.0.3)\n",
            "Requirement already satisfied: typing-extensions>=3.7.4.3 in /usr/local/lib/python3.10/dist-packages (from huggingface-hub>=0.21.2->datasets) (4.11.0)\n",
            "Requirement already satisfied: charset-normalizer<4,>=2 in /usr/local/lib/python3.10/dist-packages (from requests>=2.19.0->datasets) (3.3.2)\n",
            "Requirement already satisfied: idna<4,>=2.5 in /usr/local/lib/python3.10/dist-packages (from requests>=2.19.0->datasets) (3.7)\n",
            "Requirement already satisfied: urllib3<3,>=1.21.1 in /usr/local/lib/python3.10/dist-packages (from requests>=2.19.0->datasets) (2.0.7)\n",
            "Requirement already satisfied: certifi>=2017.4.17 in /usr/local/lib/python3.10/dist-packages (from requests>=2.19.0->datasets) (2024.2.2)\n",
            "Requirement already satisfied: python-dateutil>=2.8.2 in /usr/local/lib/python3.10/dist-packages (from pandas->datasets) (2.8.2)\n",
            "Requirement already satisfied: pytz>=2020.1 in /usr/local/lib/python3.10/dist-packages (from pandas->datasets) (2023.4)\n",
            "Requirement already satisfied: tzdata>=2022.1 in /usr/local/lib/python3.10/dist-packages (from pandas->datasets) (2024.1)\n",
            "Requirement already satisfied: six>=1.5 in /usr/local/lib/python3.10/dist-packages (from python-dateutil>=2.8.2->pandas->datasets) (1.16.0)\n",
            "Requirement already satisfied: torch in /usr/local/lib/python3.10/dist-packages (2.3.0+cu121)\n",
            "Requirement already satisfied: filelock in /usr/local/lib/python3.10/dist-packages (from torch) (3.14.0)\n",
            "Requirement already satisfied: typing-extensions>=4.8.0 in /usr/local/lib/python3.10/dist-packages (from torch) (4.11.0)\n",
            "Requirement already satisfied: sympy in /usr/local/lib/python3.10/dist-packages (from torch) (1.12)\n",
            "Requirement already satisfied: networkx in /usr/local/lib/python3.10/dist-packages (from torch) (3.3)\n",
            "Requirement already satisfied: jinja2 in /usr/local/lib/python3.10/dist-packages (from torch) (3.1.4)\n",
            "Requirement already satisfied: fsspec in /usr/local/lib/python3.10/dist-packages (from torch) (2023.6.0)\n",
            "Requirement already satisfied: nvidia-cuda-nvrtc-cu12==12.1.105 in /usr/local/lib/python3.10/dist-packages (from torch) (12.1.105)\n",
            "Requirement already satisfied: nvidia-cuda-runtime-cu12==12.1.105 in /usr/local/lib/python3.10/dist-packages (from torch) (12.1.105)\n",
            "Requirement already satisfied: nvidia-cuda-cupti-cu12==12.1.105 in /usr/local/lib/python3.10/dist-packages (from torch) (12.1.105)\n",
            "Requirement already satisfied: nvidia-cudnn-cu12==8.9.2.26 in /usr/local/lib/python3.10/dist-packages (from torch) (8.9.2.26)\n",
            "Requirement already satisfied: nvidia-cublas-cu12==12.1.3.1 in /usr/local/lib/python3.10/dist-packages (from torch) (12.1.3.1)\n",
            "Requirement already satisfied: nvidia-cufft-cu12==11.0.2.54 in /usr/local/lib/python3.10/dist-packages (from torch) (11.0.2.54)\n",
            "Requirement already satisfied: nvidia-curand-cu12==10.3.2.106 in /usr/local/lib/python3.10/dist-packages (from torch) (10.3.2.106)\n",
            "Requirement already satisfied: nvidia-cusolver-cu12==11.4.5.107 in /usr/local/lib/python3.10/dist-packages (from torch) (11.4.5.107)\n",
            "Requirement already satisfied: nvidia-cusparse-cu12==12.1.0.106 in /usr/local/lib/python3.10/dist-packages (from torch) (12.1.0.106)\n",
            "Requirement already satisfied: nvidia-nccl-cu12==2.20.5 in /usr/local/lib/python3.10/dist-packages (from torch) (2.20.5)\n",
            "Requirement already satisfied: nvidia-nvtx-cu12==12.1.105 in /usr/local/lib/python3.10/dist-packages (from torch) (12.1.105)\n",
            "Requirement already satisfied: triton==2.3.0 in /usr/local/lib/python3.10/dist-packages (from torch) (2.3.0)\n",
            "Requirement already satisfied: nvidia-nvjitlink-cu12 in /usr/local/lib/python3.10/dist-packages (from nvidia-cusolver-cu12==11.4.5.107->torch) (12.5.40)\n",
            "Requirement already satisfied: MarkupSafe>=2.0 in /usr/local/lib/python3.10/dist-packages (from jinja2->torch) (2.1.5)\n",
            "Requirement already satisfied: mpmath>=0.19 in /usr/local/lib/python3.10/dist-packages (from sympy->torch) (1.3.0)\n",
            "Requirement already satisfied: scikit-learn in /usr/local/lib/python3.10/dist-packages (1.2.2)\n",
            "Requirement already satisfied: numpy>=1.17.3 in /usr/local/lib/python3.10/dist-packages (from scikit-learn) (1.25.2)\n",
            "Requirement already satisfied: scipy>=1.3.2 in /usr/local/lib/python3.10/dist-packages (from scikit-learn) (1.11.4)\n",
            "Requirement already satisfied: joblib>=1.1.1 in /usr/local/lib/python3.10/dist-packages (from scikit-learn) (1.4.2)\n",
            "Requirement already satisfied: threadpoolctl>=2.0.0 in /usr/local/lib/python3.10/dist-packages (from scikit-learn) (3.5.0)\n"
          ]
        }
      ]
    },
    {
      "cell_type": "markdown",
      "source": [
        "# 2. Imports y detección de GPU\n",
        "\n",
        "Verificaremos si dentro del entorno disponemos de un GPU para utilizarla."
      ],
      "metadata": {
        "id": "Zos-tEmjhXBM"
      }
    },
    {
      "cell_type": "code",
      "source": [
        "# Imports\n",
        "from datasets import load_dataset\n",
        "import random\n",
        "import os\n",
        "from tensorboard.backend.event_processing import event_accumulator\n",
        "import numpy as np\n",
        "from transformers import BertTokenizer, BertForSequenceClassification\n",
        "from transformers import Trainer, TrainingArguments\n",
        "import torch\n",
        "from sklearn.model_selection import train_test_split\n",
        "from sklearn.metrics import accuracy_score, precision_recall_fscore_support\n",
        "import matplotlib.pyplot as plt\n",
        "from collections import Counter"
      ],
      "metadata": {
        "id": "y_ApTI3DcJsV"
      },
      "execution_count": 26,
      "outputs": []
    },
    {
      "cell_type": "code",
      "source": [
        "# Detección de GPU\n",
        "if torch.cuda.is_available():\n",
        "    device = torch.device(\"cuda\")\n",
        "    print(\"Usando GPU:\", torch.cuda.get_device_name(0))\n",
        "else:\n",
        "    device = torch.device(\"cpu\")\n",
        "    print(\"Usando CPU\")"
      ],
      "metadata": {
        "colab": {
          "base_uri": "https://localhost:8080/"
        },
        "id": "-x2-GDrfhnBI",
        "outputId": "f8ea08b5-e88b-4658-eca3-b700bddd541d"
      },
      "execution_count": 27,
      "outputs": [
        {
          "output_type": "stream",
          "name": "stdout",
          "text": [
            "Usando GPU: Tesla T4\n"
          ]
        }
      ]
    },
    {
      "cell_type": "markdown",
      "source": [
        "# 3. Preprocesamiento\n",
        "\n",
        "Usaremos el modelo preentrenado de BERT, tenemos que tomar el texto crudo presente en el dataset y darle un formato que el modelo BERT pueda entender. Este preprocesado consiste en convertir las frases en números (tokens) y asegurarse que las secuencias de entrada tengan la misma longitud.\n",
        "\n",
        "\n",
        "\n",
        "\n"
      ],
      "metadata": {
        "id": "8ZkxchX8i_Yj"
      }
    },
    {
      "cell_type": "markdown",
      "source": [
        "## 3.1. Carga del dataset"
      ],
      "metadata": {
        "id": "ZCDjdGQzkP2F"
      }
    },
    {
      "cell_type": "code",
      "source": [
        "# Definimos un \"sample_size\" para no trabajar con todo el dataset\n",
        "sample_size = 10000\n",
        "\n",
        "# Carga del dataset desde Hugging face\n",
        "dataset = load_dataset('amazon_polarity')"
      ],
      "metadata": {
        "id": "SEnHv-z-kTPs"
      },
      "execution_count": 28,
      "outputs": []
    },
    {
      "cell_type": "code",
      "source": [
        "# Tomamos una porción del dataset según sample_size especificado para train y test\n",
        "train_sample = dataset['train'].shuffle(seed=42).select(range(sample_size))\n",
        "test_sample = dataset['test'].shuffle(seed=42).select(range(sample_size))"
      ],
      "metadata": {
        "id": "ULtOQSQ8n70b"
      },
      "execution_count": 29,
      "outputs": []
    },
    {
      "cell_type": "code",
      "source": [
        "# Algunas muestras del dataset de entrenamiento\n",
        "print(\"dataset de entrenamiento:\")\n",
        "for i in range(5):\n",
        "    print(train_sample[i])"
      ],
      "metadata": {
        "colab": {
          "base_uri": "https://localhost:8080/"
        },
        "id": "1pDueakIzXVr",
        "outputId": "8ae44deb-8bf1-4177-d218-936378a749f1"
      },
      "execution_count": 30,
      "outputs": [
        {
          "output_type": "stream",
          "name": "stdout",
          "text": [
            "dataset de entrenamiento:\n",
            "{'label': 0, 'title': 'Anyone who likes this better than the Pekinpah is a moron.', 'content': \"All the pretty people in this film. Even the Rudy character played by Michael Madsen. This is adapted from a Jim Thompson novel for cryin' out loud! These are supposed to be marginal characters, not fashion models. Though McQueen and McGraw were attractive (but check out McQueen's crummy prison haircut) they were believable in the role. Baldwin and Bassinger seem like movie stars trying to act like hard cases. Action wise, the robbery scene in the Pekinpah version was about 100 times more exciting and suspenseful than anything in this re-make.\"}\n",
            "{'label': 0, 'title': 'Author seems mentally unstable', 'content': 'I know that Tom Robbins has a loyal following and I started the book with high expectations. However, I did not enjoy this book as it was too much work to follow his confused logic. I think that he was under the influence during most of time that he wrote.'}\n",
            "{'label': 1, 'title': 'Spaetzle Noodles', 'content': \"This type of spaetzle maker is easier to manuveur than the old press kind and much easier on the hands. The difference is that this new spaetzle maker makes smaller noodles than the old. It is great for us elderly that don't have much strength left.\"}\n",
            "{'label': 1, 'title': 'Cool product until the cats lost it . . . .', 'content': \"My cats seemed to be amused to work for their food. One cat would roll the ball with her paws and nose, and the other would walk behind her and eat up whatever fell out -- teamwork! I knew they'd dig this ball because I had already made something similar out of a plastic water bottle before that they liked a lot.A few weeks after getting this, though, the ball was never to be found again. I think it may have rolled down into the dark basement at some point and became one with the clutter.+1 for the adjustable hole sizes. -1 for the mess that happens when trying to put the food in by hand (although this could be solved with a funnel).\"}\n",
            "{'label': 1, 'title': 'Works as expected', 'content': \"I've had no problems running this with my Dell 8200 PC running Windows XP Home Edition which is running an addon USB 2 card, to which this hub (I have the 8 port version) is connected. When I bought it a year ago, I thought that 8 ports would be overkill and that 4 would be adequate, but I bought this unit anyway. Boy was I glad, right now 6 of the 8 are in use.\"}\n"
          ]
        }
      ]
    },
    {
      "cell_type": "markdown",
      "source": [
        "Inspeccionamos el dataset viendo para todo el conjunto como estan distribuidos los labels"
      ],
      "metadata": {
        "id": "-P9zQ70ppm2s"
      }
    },
    {
      "cell_type": "code",
      "source": [
        "label_counts_train = Counter(dataset['train']['label'])\n",
        "label_counts_test = Counter(dataset['test']['label'])"
      ],
      "metadata": {
        "id": "btUK2FTxofM8"
      },
      "execution_count": 31,
      "outputs": []
    },
    {
      "cell_type": "code",
      "source": [
        "labels = ['Negativas', 'Positivas']\n",
        "train_counts = [label_counts_train[0], label_counts_train[1]]\n",
        "test_counts = [label_counts_test[0], label_counts_test[1]]\n",
        "\n",
        "x = range(len(labels))\n",
        "\n",
        "fig, ax = plt.subplots(1, 2, figsize=(12, 6))\n",
        "\n",
        "# Gráfico para el conjunto de entrenamiento\n",
        "ax[0].bar(x, train_counts, color=['red', 'green'])\n",
        "ax[0].set_title('Distribución de labels en el conjunto train')\n",
        "ax[0].set_xticks(x)\n",
        "ax[0].set_xticklabels(labels)\n",
        "ax[0].set_ylabel('Cantidad')\n",
        "\n",
        "# Gráfico para el conjunto de prueba\n",
        "ax[1].bar(x, test_counts, color=['red', 'green'])\n",
        "ax[1].set_title('Distribución de labels en el conjunto test')\n",
        "ax[1].set_xticks(x)\n",
        "ax[1].set_xticklabels(labels)\n",
        "ax[1].set_ylabel('Cantidad')\n",
        "\n",
        "plt.show()"
      ],
      "metadata": {
        "colab": {
          "base_uri": "https://localhost:8080/",
          "height": 545
        },
        "id": "PfVc_dX5jb9p",
        "outputId": "c9fb612a-8eb3-415f-ac1c-38ec7a5350b8"
      },
      "execution_count": 32,
      "outputs": [
        {
          "output_type": "display_data",
          "data": {
            "text/plain": [
              "<Figure size 1200x600 with 2 Axes>"
            ],
            "image/png": "[encoded data removed]"
          },
          "metadata": {}
        }
      ]
    },
    {
      "cell_type": "markdown",
      "source": [
        "## 3.2 Definición del tokenizer preentrenado y del modelo\n",
        "\n",
        "Para el modelo usamos 2 etiquetas porque vamos a realizar una clasificación binaria (Positiva o negativa) para las reseñas."
      ],
      "metadata": {
        "id": "3VH3eu90lLds"
      }
    },
    {
      "cell_type": "code",
      "source": [
        "# Tokenizer preentrenado (BERT).\n",
        "tokenizer = BertTokenizer.from_pretrained('bert-base-uncased')\n",
        "\n",
        "# Definición del modelo (2 etiquetas).\n",
        "model = BertForSequenceClassification.from_pretrained('bert-base-uncased', num_labels=2)\n",
        "\n",
        "# Aseguramos uso de GPU si está disponible.\n",
        "model.to(device)\n"
      ],
      "metadata": {
        "colab": {
          "base_uri": "https://localhost:8080/"
        },
        "id": "poom_ieFnVbp",
        "outputId": "73f744d1-7a9d-445c-8a63-5add9da49389",
        "collapsed": true
      },
      "execution_count": 33,
      "outputs": [
        {
          "output_type": "stream",
          "name": "stderr",
          "text": [
            "Some weights of BertForSequenceClassification were not initialized from the model checkpoint at bert-base-uncased and are newly initialized: ['classifier.bias', 'classifier.weight']\n",
            "You should probably TRAIN this model on a down-stream task to be able to use it for predictions and inference.\n"
          ]
        },
        {
          "output_type": "execute_result",
          "data": {
            "text/plain": [
              "BertForSequenceClassification(\n",
              "  (bert): BertModel(\n",
              "    (embeddings): BertEmbeddings(\n",
              "      (word_embeddings): Embedding(30522, 768, padding_idx=0)\n",
              "      (position_embeddings): Embedding(512, 768)\n",
              "      (token_type_embeddings): Embedding(2, 768)\n",
              "      (LayerNorm): LayerNorm((768,), eps=1e-12, elementwise_affine=True)\n",
              "      (dropout): Dropout(p=0.1, inplace=False)\n",
              "    )\n",
              "    (encoder): BertEncoder(\n",
              "      (layer): ModuleList(\n",
              "        (0-11): 12 x BertLayer(\n",
              "          (attention): BertAttention(\n",
              "            (self): BertSdpaSelfAttention(\n",
              "              (query): Linear(in_features=768, out_features=768, bias=True)\n",
              "              (key): Linear(in_features=768, out_features=768, bias=True)\n",
              "              (value): Linear(in_features=768, out_features=768, bias=True)\n",
              "              (dropout): Dropout(p=0.1, inplace=False)\n",
              "            )\n",
              "            (output): BertSelfOutput(\n",
              "              (dense): Linear(in_features=768, out_features=768, bias=True)\n",
              "              (LayerNorm): LayerNorm((768,), eps=1e-12, elementwise_affine=True)\n",
              "              (dropout): Dropout(p=0.1, inplace=False)\n",
              "            )\n",
              "          )\n",
              "          (intermediate): BertIntermediate(\n",
              "            (dense): Linear(in_features=768, out_features=3072, bias=True)\n",
              "            (intermediate_act_fn): GELUActivation()\n",
              "          )\n",
              "          (output): BertOutput(\n",
              "            (dense): Linear(in_features=3072, out_features=768, bias=True)\n",
              "            (LayerNorm): LayerNorm((768,), eps=1e-12, elementwise_affine=True)\n",
              "            (dropout): Dropout(p=0.1, inplace=False)\n",
              "          )\n",
              "        )\n",
              "      )\n",
              "    )\n",
              "    (pooler): BertPooler(\n",
              "      (dense): Linear(in_features=768, out_features=768, bias=True)\n",
              "      (activation): Tanh()\n",
              "    )\n",
              "  )\n",
              "  (dropout): Dropout(p=0.1, inplace=False)\n",
              "  (classifier): Linear(in_features=768, out_features=2, bias=True)\n",
              ")"
            ]
          },
          "metadata": {},
          "execution_count": 33
        }
      ]
    },
    {
      "cell_type": "markdown",
      "source": [
        "## 3.3 Preprocesamiento\n",
        "\n",
        "Hacemos la tokenización. Si tenemos por ejemplo:\n",
        "\n",
        "\"This is a great product. I highly recommend it!\"\n",
        "\n",
        "luego del tokenizado tenemos:\n",
        "\n",
        "[101, 2023, 2003, 1037, 2307, 4031, 1012, 1045, 3811, 16770, 2009, 999, 102]\n",
        "\n",
        "donde cada palabra fue convertida en un número que posteriormente el modelo sabrá interpretar.\n",
        "\n",
        "En caso de que la sentencia sea mas corta que max_length, se completan con 0"
      ],
      "metadata": {
        "id": "ej3XXw44neUK"
      }
    },
    {
      "cell_type": "code",
      "source": [
        "# Función de preprocesamiento\n",
        "def preprocess_function(examples):\n",
        "    return tokenizer(examples['content'], max_length=128, padding=\"max_length\", truncation=True)\n",
        "\n",
        "# Aplicar la función de preprocesamiento a cada ejemplo en dataset_sample por lotes (batched)\n",
        "encoded_dataset = train_sample.map(preprocess_function, batched=True)"
      ],
      "metadata": {
        "id": "Ha0AkvawncMP"
      },
      "execution_count": 34,
      "outputs": []
    },
    {
      "cell_type": "code",
      "source": [
        "print(\"Ejemplo de encoded:\")\n",
        "print(encoded_dataset[1])"
      ],
      "metadata": {
        "colab": {
          "base_uri": "https://localhost:8080/"
        },
        "id": "lw4n64cEzqOy",
        "outputId": "8b2a455b-a022-46c9-d9fe-1d34f48a5a7b"
      },
      "execution_count": 35,
      "outputs": [
        {
          "output_type": "stream",
          "name": "stdout",
          "text": [
            "Ejemplo de encoded:\n",
            "{'label': 0, 'title': 'Author seems mentally unstable', 'content': 'I know that Tom Robbins has a loyal following and I started the book with high expectations. However, I did not enjoy this book as it was too much work to follow his confused logic. I think that he was under the influence during most of time that he wrote.', 'input_ids': [101, 1045, 2113, 2008, 3419, 18091, 2038, 1037, 8884, 2206, 1998, 1045, 2318, 1996, 2338, 2007, 2152, 10908, 1012, 2174, 1010, 1045, 2106, 2025, 5959, 2023, 2338, 2004, 2009, 2001, 2205, 2172, 2147, 2000, 3582, 2010, 5457, 7961, 1012, 1045, 2228, 2008, 2002, 2001, 2104, 1996, 3747, 2076, 2087, 1997, 2051, 2008, 2002, 2626, 1012, 102, 0, 0, 0, 0, 0, 0, 0, 0, 0, 0, 0, 0, 0, 0, 0, 0, 0, 0, 0, 0, 0, 0, 0, 0, 0, 0, 0, 0, 0, 0, 0, 0, 0, 0, 0, 0, 0, 0, 0, 0, 0, 0, 0, 0, 0, 0, 0, 0, 0, 0, 0, 0, 0, 0, 0, 0, 0, 0, 0, 0, 0, 0, 0, 0, 0, 0, 0, 0, 0, 0, 0, 0], 'token_type_ids': [0, 0, 0, 0, 0, 0, 0, 0, 0, 0, 0, 0, 0, 0, 0, 0, 0, 0, 0, 0, 0, 0, 0, 0, 0, 0, 0, 0, 0, 0, 0, 0, 0, 0, 0, 0, 0, 0, 0, 0, 0, 0, 0, 0, 0, 0, 0, 0, 0, 0, 0, 0, 0, 0, 0, 0, 0, 0, 0, 0, 0, 0, 0, 0, 0, 0, 0, 0, 0, 0, 0, 0, 0, 0, 0, 0, 0, 0, 0, 0, 0, 0, 0, 0, 0, 0, 0, 0, 0, 0, 0, 0, 0, 0, 0, 0, 0, 0, 0, 0, 0, 0, 0, 0, 0, 0, 0, 0, 0, 0, 0, 0, 0, 0, 0, 0, 0, 0, 0, 0, 0, 0, 0, 0, 0, 0, 0, 0], 'attention_mask': [1, 1, 1, 1, 1, 1, 1, 1, 1, 1, 1, 1, 1, 1, 1, 1, 1, 1, 1, 1, 1, 1, 1, 1, 1, 1, 1, 1, 1, 1, 1, 1, 1, 1, 1, 1, 1, 1, 1, 1, 1, 1, 1, 1, 1, 1, 1, 1, 1, 1, 1, 1, 1, 1, 1, 1, 0, 0, 0, 0, 0, 0, 0, 0, 0, 0, 0, 0, 0, 0, 0, 0, 0, 0, 0, 0, 0, 0, 0, 0, 0, 0, 0, 0, 0, 0, 0, 0, 0, 0, 0, 0, 0, 0, 0, 0, 0, 0, 0, 0, 0, 0, 0, 0, 0, 0, 0, 0, 0, 0, 0, 0, 0, 0, 0, 0, 0, 0, 0, 0, 0, 0, 0, 0, 0, 0, 0, 0]}\n"
          ]
        }
      ]
    },
    {
      "cell_type": "markdown",
      "source": [
        "## 3.4 Conversión del preprocesado en tensores\n",
        "\n",
        "BERT (Implementado con PyTorch) opera con tensores que son estructuras de datos como las matrices pero con multiples dimensiones. En definitiva, preparamos los datos de entrada en un formato que el modelo BERT puede procesar directamente\n",
        "\n",
        "type='torch': Especifica que queremos convertir los datos a tensores de PyTorch.\n",
        "\n",
        "columns=['input_ids', 'attention_mask', 'label']: Especifica qué columnas del dataset deben ser convertidas a tensores.\n",
        "\n",
        "\n"
      ],
      "metadata": {
        "id": "1_dRCnD4oPPn"
      }
    },
    {
      "cell_type": "code",
      "source": [
        "# Definir la función de conversión a tensores\n",
        "def convert_to_tensors(dataset):\n",
        "    dataset.set_format(type='torch', columns=['input_ids', 'attention_mask', 'label'])\n",
        "    return dataset\n",
        "\n",
        "# Convertir el dataset a tensores\n",
        "encoded_dataset = convert_to_tensors(encoded_dataset)"
      ],
      "metadata": {
        "id": "1O3ggSUhpNog"
      },
      "execution_count": 36,
      "outputs": []
    },
    {
      "cell_type": "code",
      "source": [
        "print(\"Ejemplo de tensor:\")\n",
        "print(encoded_dataset[1])"
      ],
      "metadata": {
        "colab": {
          "base_uri": "https://localhost:8080/"
        },
        "id": "cKZTAZ1vz9fn",
        "outputId": "58552a36-268c-4055-a338-83faf1052344"
      },
      "execution_count": 37,
      "outputs": [
        {
          "output_type": "stream",
          "name": "stdout",
          "text": [
            "Ejemplo de tensor:\n",
            "{'label': tensor(0), 'input_ids': tensor([  101,  1045,  2113,  2008,  3419, 18091,  2038,  1037,  8884,  2206,\n",
            "         1998,  1045,  2318,  1996,  2338,  2007,  2152, 10908,  1012,  2174,\n",
            "         1010,  1045,  2106,  2025,  5959,  2023,  2338,  2004,  2009,  2001,\n",
            "         2205,  2172,  2147,  2000,  3582,  2010,  5457,  7961,  1012,  1045,\n",
            "         2228,  2008,  2002,  2001,  2104,  1996,  3747,  2076,  2087,  1997,\n",
            "         2051,  2008,  2002,  2626,  1012,   102,     0,     0,     0,     0,\n",
            "            0,     0,     0,     0,     0,     0,     0,     0,     0,     0,\n",
            "            0,     0,     0,     0,     0,     0,     0,     0,     0,     0,\n",
            "            0,     0,     0,     0,     0,     0,     0,     0,     0,     0,\n",
            "            0,     0,     0,     0,     0,     0,     0,     0,     0,     0,\n",
            "            0,     0,     0,     0,     0,     0,     0,     0,     0,     0,\n",
            "            0,     0,     0,     0,     0,     0,     0,     0,     0,     0,\n",
            "            0,     0,     0,     0,     0,     0,     0,     0]), 'attention_mask': tensor([1, 1, 1, 1, 1, 1, 1, 1, 1, 1, 1, 1, 1, 1, 1, 1, 1, 1, 1, 1, 1, 1, 1, 1,\n",
            "        1, 1, 1, 1, 1, 1, 1, 1, 1, 1, 1, 1, 1, 1, 1, 1, 1, 1, 1, 1, 1, 1, 1, 1,\n",
            "        1, 1, 1, 1, 1, 1, 1, 1, 0, 0, 0, 0, 0, 0, 0, 0, 0, 0, 0, 0, 0, 0, 0, 0,\n",
            "        0, 0, 0, 0, 0, 0, 0, 0, 0, 0, 0, 0, 0, 0, 0, 0, 0, 0, 0, 0, 0, 0, 0, 0,\n",
            "        0, 0, 0, 0, 0, 0, 0, 0, 0, 0, 0, 0, 0, 0, 0, 0, 0, 0, 0, 0, 0, 0, 0, 0,\n",
            "        0, 0, 0, 0, 0, 0, 0, 0])}\n"
          ]
        }
      ]
    },
    {
      "cell_type": "markdown",
      "source": [
        "## 3.5 División en train y test"
      ],
      "metadata": {
        "id": "90xH6NQCpPh0"
      }
    },
    {
      "cell_type": "code",
      "source": [
        "# Dividir el dataset en entrenamiento y evaluación\n",
        "train_size = int(0.8 * len(encoded_dataset))\n",
        "train_dataset, eval_dataset = torch.utils.data.random_split(encoded_dataset, [train_size, len(encoded_dataset) - train_size])\n"
      ],
      "metadata": {
        "id": "p7kRUiexpaAF"
      },
      "execution_count": 38,
      "outputs": []
    },
    {
      "cell_type": "markdown",
      "source": [
        "# 4. Trainer y entrenamiento\n",
        "\n"
      ],
      "metadata": {
        "id": "kHbz_dNipdLV"
      }
    },
    {
      "cell_type": "code",
      "source": [
        "# Subclase para registrar el training_ accuracy, por: https://discuss.huggingface.co/t/metrics-for-training-set-in-trainer/2461\n",
        "class CustomTrainer(Trainer):\n",
        "    def compute_loss(self, model, inputs, return_outputs=False):\n",
        "        \"\"\"\n",
        "        Subclassed to compute training accuracy.\n",
        "        \"\"\"\n",
        "        if self.label_smoother is not None and \"labels\" in inputs:\n",
        "            labels = inputs.pop(\"labels\")\n",
        "        else:\n",
        "            labels = None\n",
        "        outputs = model(**inputs)\n",
        "\n",
        "        # Calculate and log training accuracy\n",
        "        if \"labels\" in inputs:\n",
        "            preds = outputs.logits.detach()\n",
        "            acc = (\n",
        "                (preds.argmax(axis=1) == inputs[\"labels\"])\n",
        "                .type(torch.float)\n",
        "                .mean()\n",
        "                .item()\n",
        "            )\n",
        "            self.log({\"training_accuracy\": acc})\n",
        "\n",
        "        # Save past state if it exists\n",
        "        if self.args.past_index >= 0:\n",
        "            self._past = outputs[self.args.past_index]\n",
        "\n",
        "        if labels is not None:\n",
        "            loss = self.label_smoother(outputs, labels)\n",
        "        else:\n",
        "            loss = outputs[\"loss\"] if isinstance(outputs, dict) else outputs[0]\n",
        "\n",
        "        return (loss, outputs) if return_outputs else loss"
      ],
      "metadata": {
        "id": "T4zgk40RKMfl"
      },
      "execution_count": 39,
      "outputs": []
    },
    {
      "cell_type": "code",
      "source": [
        "# Definir los argumentos de entrenamiento\n",
        "training_args = TrainingArguments(\n",
        "    output_dir='./results',\n",
        "    num_train_epochs=3,              # Número de épocas de entrenamiento\n",
        "    per_device_train_batch_size=16,   # Tamaño del batch de entrenamiento (8/16/32)\n",
        "    per_device_eval_batch_size=16,    # Tamaño del batch de evaluación (8/16/32)\n",
        "    warmup_steps=500,                # Pasos de calentamiento, ayuda a estabilizar el entrenamiento al inicio, evitando cambios bruscos en los pesos del modelo\n",
        "    weight_decay=0.01,               # Factor de decaimiento del peso, reduce el sobreajuste en el conjunto de entrenamiento\n",
        "    logging_dir='./logs',\n",
        "    logging_steps=10,\n",
        "    evaluation_strategy=\"epoch\",     # Estrategia de evaluación: evalúa al final de cada época\n",
        ")\n",
        "\n",
        "# Función de cálculo de métricas\n",
        "def compute_metrics(pred):\n",
        "    labels = pred.label_ids\n",
        "    preds = pred.predictions.argmax(-1)\n",
        "    precision, recall, f1, _ = precision_recall_fscore_support(labels, preds, average='binary')\n",
        "    acc = accuracy_score(labels, preds)\n",
        "    return {\n",
        "        'accuracy': acc,\n",
        "        'f1': f1,\n",
        "        'precision': precision,\n",
        "        'recall': recall\n",
        "    }\n",
        "\n",
        "# # Crear el Trainer\n",
        "# trainer = Trainer(\n",
        "#     model=model,                         # El modelo a entrenar\n",
        "#     args=training_args,                  # Argumentos de entrenamiento\n",
        "#     train_dataset=encoded_dataset,       # Datos de entrenamiento\n",
        "#     eval_dataset=eval_dataset,           # Datos de evaluación\n",
        "#     compute_metrics=compute_metrics      # Función de cálculo de métricas\n",
        "# )\n",
        "#\n",
        "# # Entrenar el modelo\n",
        "# trainer.train()\n",
        "\n",
        "# Crear el CustomTrainer\n",
        "custom_trainer = CustomTrainer(\n",
        "    model=model,                         # El modelo a entrenar\n",
        "    args=training_args,                  # Argumentos de entrenamiento\n",
        "    train_dataset=encoded_dataset,       # Datos de entrenamiento\n",
        "    eval_dataset=eval_dataset,           # Datos de evaluación\n",
        "    compute_metrics=compute_metrics      # Función de cálculo de métricas\n",
        ")\n",
        "\n",
        "# Entrenar el modelo\n",
        "custom_trainer.train()\n"
      ],
      "metadata": {
        "colab": {
          "base_uri": "https://localhost:8080/",
          "height": 263
        },
        "id": "gHd_1cxSvTqe",
        "outputId": "3d9fab55-6dcb-4bcf-bc63-cbeec142b01d"
      },
      "execution_count": 40,
      "outputs": [
        {
          "output_type": "stream",
          "name": "stderr",
          "text": [
            "/usr/local/lib/python3.10/dist-packages/transformers/training_args.py:1474: FutureWarning: `evaluation_strategy` is deprecated and will be removed in version 4.46 of 🤗 Transformers. Use `eval_strategy` instead\n",
            "  warnings.warn(\n"
          ]
        },
        {
          "output_type": "display_data",
          "data": {
            "text/plain": [
              "<IPython.core.display.HTML object>"
            ],
            "text/html": [
              "\n",
              "    <div>\n",
              "      \n",
              "      <progress value='1875' max='1875' style='width:300px; height:20px; vertical-align: middle;'></progress>\n",
              "      [1875/1875 12:02, Epoch 3/3]\n",
              "    </div>\n",
              "    <table border=\"1\" class=\"dataframe\">\n",
              "  <thead>\n",
              " <tr style=\"text-align: left;\">\n",
              "      <th>Epoch</th>\n",
              "      <th>Training Loss</th>\n",
              "      <th>Validation Loss</th>\n",
              "      <th>Accuracy</th>\n",
              "      <th>F1</th>\n",
              "      <th>Precision</th>\n",
              "      <th>Recall</th>\n",
              "    </tr>\n",
              "  </thead>\n",
              "  <tbody>\n",
              "    <tr>\n",
              "      <td>1</td>\n",
              "      <td>0.327800</td>\n",
              "      <td>0.138676</td>\n",
              "      <td>0.957500</td>\n",
              "      <td>0.957648</td>\n",
              "      <td>0.966801</td>\n",
              "      <td>0.948667</td>\n",
              "    </tr>\n",
              "    <tr>\n",
              "      <td>2</td>\n",
              "      <td>0.108000</td>\n",
              "      <td>0.049754</td>\n",
              "      <td>0.985500</td>\n",
              "      <td>0.985636</td>\n",
              "      <td>0.989066</td>\n",
              "      <td>0.982231</td>\n",
              "    </tr>\n",
              "    <tr>\n",
              "      <td>3</td>\n",
              "      <td>0.092500</td>\n",
              "      <td>0.018071</td>\n",
              "      <td>0.996500</td>\n",
              "      <td>0.996547</td>\n",
              "      <td>0.996055</td>\n",
              "      <td>0.997038</td>\n",
              "    </tr>\n",
              "  </tbody>\n",
              "</table><p>"
            ]
          },
          "metadata": {}
        },
        {
          "output_type": "execute_result",
          "data": {
            "text/plain": [
              "TrainOutput(global_step=1875, training_loss=0.1993116703857978, metrics={'train_runtime': 722.6271, 'train_samples_per_second': 41.515, 'train_steps_per_second': 2.595, 'total_flos': 1973332915200000.0, 'train_loss': 0.1993116703857978, 'epoch': 3.0})"
            ]
          },
          "metadata": {},
          "execution_count": 40
        }
      ]
    },
    {
      "cell_type": "code",
      "source": [
        "# Visualización de todos los parametros\n",
        "training_args_dict = training_args.to_dict()\n",
        "for key, value in training_args_dict.items():\n",
        "    print(f\"{key}: {value}\")"
      ],
      "metadata": {
        "colab": {
          "base_uri": "https://localhost:8080/"
        },
        "id": "tnCx50pTAgiF",
        "outputId": "8b164f83-1210-4b6a-94b1-7deec69ee947"
      },
      "execution_count": 41,
      "outputs": [
        {
          "output_type": "stream",
          "name": "stdout",
          "text": [
            "output_dir: ./results\n",
            "overwrite_output_dir: False\n",
            "do_train: False\n",
            "do_eval: True\n",
            "do_predict: False\n",
            "eval_strategy: epoch\n",
            "prediction_loss_only: False\n",
            "per_device_train_batch_size: 16\n",
            "per_device_eval_batch_size: 16\n",
            "per_gpu_train_batch_size: None\n",
            "per_gpu_eval_batch_size: None\n",
            "gradient_accumulation_steps: 1\n",
            "eval_accumulation_steps: None\n",
            "eval_delay: 0\n",
            "learning_rate: 5e-05\n",
            "weight_decay: 0.01\n",
            "adam_beta1: 0.9\n",
            "adam_beta2: 0.999\n",
            "adam_epsilon: 1e-08\n",
            "max_grad_norm: 1.0\n",
            "num_train_epochs: 3\n",
            "max_steps: -1\n",
            "lr_scheduler_type: linear\n",
            "lr_scheduler_kwargs: {}\n",
            "warmup_ratio: 0.0\n",
            "warmup_steps: 500\n",
            "log_level: passive\n",
            "log_level_replica: warning\n",
            "log_on_each_node: True\n",
            "logging_dir: ./logs\n",
            "logging_strategy: steps\n",
            "logging_first_step: False\n",
            "logging_steps: 10\n",
            "logging_nan_inf_filter: True\n",
            "save_strategy: steps\n",
            "save_steps: 500\n",
            "save_total_limit: None\n",
            "save_safetensors: True\n",
            "save_on_each_node: False\n",
            "save_only_model: False\n",
            "restore_callback_states_from_checkpoint: False\n",
            "no_cuda: False\n",
            "use_cpu: False\n",
            "use_mps_device: False\n",
            "seed: 42\n",
            "data_seed: None\n",
            "jit_mode_eval: False\n",
            "use_ipex: False\n",
            "bf16: False\n",
            "fp16: False\n",
            "fp16_opt_level: O1\n",
            "half_precision_backend: auto\n",
            "bf16_full_eval: False\n",
            "fp16_full_eval: False\n",
            "tf32: None\n",
            "local_rank: 0\n",
            "ddp_backend: None\n",
            "tpu_num_cores: None\n",
            "tpu_metrics_debug: False\n",
            "debug: []\n",
            "dataloader_drop_last: False\n",
            "eval_steps: None\n",
            "dataloader_num_workers: 0\n",
            "dataloader_prefetch_factor: None\n",
            "past_index: -1\n",
            "run_name: ./results\n",
            "disable_tqdm: False\n",
            "remove_unused_columns: True\n",
            "label_names: None\n",
            "load_best_model_at_end: False\n",
            "metric_for_best_model: None\n",
            "greater_is_better: None\n",
            "ignore_data_skip: False\n",
            "fsdp: []\n",
            "fsdp_min_num_params: 0\n",
            "fsdp_config: {'min_num_params': 0, 'xla': False, 'xla_fsdp_v2': False, 'xla_fsdp_grad_ckpt': False}\n",
            "fsdp_transformer_layer_cls_to_wrap: None\n",
            "accelerator_config: {'split_batches': False, 'dispatch_batches': None, 'even_batches': True, 'use_seedable_sampler': True, 'non_blocking': False, 'gradient_accumulation_kwargs': None}\n",
            "deepspeed: None\n",
            "label_smoothing_factor: 0.0\n",
            "optim: adamw_torch\n",
            "optim_args: None\n",
            "adafactor: False\n",
            "group_by_length: False\n",
            "length_column_name: length\n",
            "report_to: ['tensorboard']\n",
            "ddp_find_unused_parameters: None\n",
            "ddp_bucket_cap_mb: None\n",
            "ddp_broadcast_buffers: None\n",
            "dataloader_pin_memory: True\n",
            "dataloader_persistent_workers: False\n",
            "skip_memory_metrics: True\n",
            "use_legacy_prediction_loop: False\n",
            "push_to_hub: False\n",
            "resume_from_checkpoint: None\n",
            "hub_model_id: None\n",
            "hub_strategy: every_save\n",
            "hub_token: <HUB_TOKEN>\n",
            "hub_private_repo: False\n",
            "hub_always_push: False\n",
            "gradient_checkpointing: False\n",
            "gradient_checkpointing_kwargs: None\n",
            "include_inputs_for_metrics: False\n",
            "eval_do_concat_batches: True\n",
            "fp16_backend: auto\n",
            "evaluation_strategy: epoch\n",
            "push_to_hub_model_id: None\n",
            "push_to_hub_organization: None\n",
            "push_to_hub_token: <PUSH_TO_HUB_TOKEN>\n",
            "mp_parameters: \n",
            "auto_find_batch_size: False\n",
            "full_determinism: False\n",
            "torchdynamo: None\n",
            "ray_scope: last\n",
            "ddp_timeout: 1800\n",
            "torch_compile: False\n",
            "torch_compile_backend: None\n",
            "torch_compile_mode: None\n",
            "dispatch_batches: None\n",
            "split_batches: None\n",
            "include_tokens_per_second: False\n",
            "include_num_input_tokens_seen: False\n",
            "neftune_noise_alpha: None\n",
            "optim_target_modules: None\n",
            "batch_eval_metrics: False\n"
          ]
        }
      ]
    },
    {
      "cell_type": "markdown",
      "source": [
        "# 5. Evaluación del modelo"
      ],
      "metadata": {
        "id": "lf8EYyi2sJiT"
      }
    },
    {
      "cell_type": "code",
      "source": [
        "# Evaluar el modelo\n",
        "# eval_results = trainer.evaluate()\n",
        "\n",
        "# Evaluar el modelo\n",
        "eval_results = custom_trainer.evaluate()\n",
        "\n",
        "print(f\"Evaluation results: {eval_results}\")"
      ],
      "metadata": {
        "id": "SAjr21H9sNaq",
        "colab": {
          "base_uri": "https://localhost:8080/",
          "height": 75
        },
        "outputId": "23eebee0-ee4f-4198-9e9e-1e19abb2b9ee"
      },
      "execution_count": 42,
      "outputs": [
        {
          "output_type": "display_data",
          "data": {
            "text/plain": [
              "<IPython.core.display.HTML object>"
            ],
            "text/html": [
              "\n",
              "    <div>\n",
              "      \n",
              "      <progress value='125' max='125' style='width:300px; height:20px; vertical-align: middle;'></progress>\n",
              "      [125/125 00:13]\n",
              "    </div>\n",
              "    "
            ]
          },
          "metadata": {}
        },
        {
          "output_type": "stream",
          "name": "stdout",
          "text": [
            "Evaluation results: {'eval_loss': 0.01807056926190853, 'eval_accuracy': 0.9965, 'eval_f1': 0.9965466206216083, 'eval_precision': 0.9960552268244576, 'eval_recall': 0.9970384995064165, 'eval_runtime': 13.6846, 'eval_samples_per_second': 146.149, 'eval_steps_per_second': 9.134, 'epoch': 3.0}\n"
          ]
        }
      ]
    },
    {
      "cell_type": "code",
      "source": [
        "# Guadado del modelo (Requiere conexión y permisos al drive)\n",
        "model.save_pretrained('./saved_model')\n",
        "tokenizer.save_pretrained('./saved_model')"
      ],
      "metadata": {
        "colab": {
          "base_uri": "https://localhost:8080/"
        },
        "id": "wsz-6aSiwic7",
        "outputId": "dc979f84-d33d-4596-ecb3-ea4db9b975ea"
      },
      "execution_count": 43,
      "outputs": [
        {
          "output_type": "execute_result",
          "data": {
            "text/plain": [
              "('./saved_model/tokenizer_config.json',\n",
              " './saved_model/special_tokens_map.json',\n",
              " './saved_model/vocab.txt',\n",
              " './saved_model/added_tokens.json')"
            ]
          },
          "metadata": {},
          "execution_count": 43
        }
      ]
    },
    {
      "cell_type": "markdown",
      "source": [
        "# 6. Visualización de los resultados"
      ],
      "metadata": {
        "id": "mRatl0-HYqk0"
      }
    },
    {
      "cell_type": "code",
      "source": [
        "# Para poder graficar y observar el Train Loss y Train accuracy tenemos que inspeccionar como estan guaradados en los logs y extraer los valores\n",
        "from tensorboard.backend.event_processing import event_accumulator\n",
        "\n",
        "def identify_log_keys(log_dir='./logs'):\n",
        "    ea = event_accumulator.EventAccumulator(log_dir)\n",
        "    ea.Reload()\n",
        "\n",
        "    # Obtener las claves disponibles en los logs\n",
        "    scalar_keys = ea.Tags()['scalars']\n",
        "    return scalar_keys\n",
        "\n",
        "# Identificar las claves disponibles en los logs\n",
        "scalar_keys = identify_log_keys('./logs')\n",
        "print(f\"Available scalar keys: {scalar_keys}\")"
      ],
      "metadata": {
        "colab": {
          "base_uri": "https://localhost:8080/"
        },
        "id": "v8bNgq8rOi1U",
        "outputId": "8fb71e93-e768-48a2-c108-7f994710edf3"
      },
      "execution_count": 46,
      "outputs": [
        {
          "output_type": "stream",
          "name": "stdout",
          "text": [
            "Available scalar keys: ['train/training_accuracy', 'train/epoch', 'train/loss', 'train/grad_norm', 'train/learning_rate', 'eval/loss', 'eval/accuracy', 'eval/f1', 'eval/precision', 'eval/recall', 'eval/runtime', 'eval/samples_per_second', 'eval/steps_per_second', 'train/train_runtime', 'train/train_samples_per_second', 'train/train_steps_per_second', 'train/total_flos', 'train/train_loss']\n"
          ]
        }
      ]
    },
    {
      "cell_type": "code",
      "source": [
        "# Función que accede al registro de logs y extrae los valores\n",
        "def load_logs(log_dir='./logs', loss_key='train/loss', accuracy_key='train/training_accuracy'):\n",
        "    ea = event_accumulator.EventAccumulator(log_dir)\n",
        "    ea.Reload()\n",
        "\n",
        "    # Extraer los resúmenes de escalares para loss y accuracy\n",
        "    train_loss = ea.Scalars(loss_key)\n",
        "    train_accuracy = ea.Scalars(accuracy_key)\n",
        "\n",
        "    # SE crean diccionarios para alinear los datos por paso (step)\n",
        "    loss_dict = {entry.step: entry.value for entry in train_loss}\n",
        "    accuracy_dict = {entry.step: entry.value for entry in train_accuracy}\n",
        "\n",
        "    # Identificar los pasos comunes\n",
        "    common_steps = sorted(set(loss_dict.keys()).intersection(accuracy_dict.keys()))\n",
        "\n",
        "    epochs = common_steps\n",
        "    train_loss_values = [loss_dict[step] for step in common_steps]\n",
        "\n",
        "    # Para train_accuracy, calculamos el promedio por epoch\n",
        "    accuracy_steps = sorted(accuracy_dict.keys())\n",
        "    epoch_accuracy = []\n",
        "    for step in common_steps:\n",
        "        # Encontrar los valores de precisión correspondientes a este paso\n",
        "        accuracy_values = [accuracy_dict[s] for s in accuracy_steps if s <= step]\n",
        "        if accuracy_values:\n",
        "            epoch_accuracy.append(np.mean(accuracy_values))\n",
        "        else:\n",
        "            epoch_accuracy.append(0)  # Valor por defecto si no hay datos\n",
        "\n",
        "    return epochs, train_loss_values, epoch_accuracy\n",
        "\n",
        "# Cargar los datos de los logs\n",
        "epochs, train_loss, train_accuracy = load_logs('./logs')\n",
        "\n",
        "# Verificar las longitudes nuevamente para cerciorarnos que son iguales y eliminamos el problema de dimensiones\n",
        "print(f\"Length of epochs: {len(epochs)}\")\n",
        "print(f\"Length of train_loss: {len(train_loss)}\")\n",
        "print(f\"Length of train_accuracy: {len(train_accuracy)}\")\n",
        "\n",
        "# Graficar las curvas de pérdida y precisión de entrenamiento\n",
        "plt.figure(figsize=(10, 5))\n",
        "plt.plot(epochs, train_loss, label='Training Loss')\n",
        "plt.plot(epochs, train_accuracy, label='Training Accuracy')\n",
        "plt.xlabel('Epoch')\n",
        "plt.ylabel('Value')\n",
        "plt.title('Training Loss and Accuracy')\n",
        "plt.legend()\n",
        "plt.show()"
      ],
      "metadata": {
        "colab": {
          "base_uri": "https://localhost:8080/",
          "height": 542
        },
        "id": "Ej6ellfXKmqr",
        "outputId": "105e2196-57c1-4230-9adb-b1dfc3b165e2"
      },
      "execution_count": 47,
      "outputs": [
        {
          "output_type": "stream",
          "name": "stdout",
          "text": [
            "Length of epochs: 187\n",
            "Length of train_loss: 187\n",
            "Length of train_accuracy: 187\n"
          ]
        },
        {
          "output_type": "display_data",
          "data": {
            "text/plain": [
              "<Figure size 1000x500 with 1 Axes>"
            ],
            "image/png": "[encoded data removed]"
          },
          "metadata": {}
        }
      ]
    },
    {
      "cell_type": "code",
      "source": [
        "import matplotlib.pyplot as plt\n",
        "\n",
        "# Datos para el gráfico\n",
        "labels = ['Loss', 'Accuracy']\n",
        "values = [eval_results['eval_loss'], eval_results['eval_accuracy']]\n",
        "\n",
        "# Crear el gráfico\n",
        "plt.figure(figsize=(10, 5))\n",
        "plt.bar(labels, values, color='skyblue')\n",
        "plt.xlabel('Métricas')\n",
        "plt.ylabel('Valores')\n",
        "plt.title('Resultados del Modelo')\n",
        "plt.show()"
      ],
      "metadata": {
        "id": "T7m3wkNo1cvm",
        "colab": {
          "base_uri": "https://localhost:8080/",
          "height": 487
        },
        "outputId": "96fdacc7-9bb6-4cab-f41d-f69614aceb97"
      },
      "execution_count": 48,
      "outputs": [
        {
          "output_type": "display_data",
          "data": {
            "text/plain": [
              "<Figure size 1000x500 with 1 Axes>"
            ],
            "image/png": "[encoded data removed]"
          },
          "metadata": {}
        }
      ]
    },
    {
      "cell_type": "markdown",
      "source": [
        "# 7. Verificación del modelo\n",
        "\n",
        "Generamos nuevas reviews para probar si el modelo es capaz de clasificar correctamente los sentimientos."
      ],
      "metadata": {
        "id": "DVo-IozVYhqz"
      }
    },
    {
      "cell_type": "markdown",
      "source": [
        "## 7.1 Nuevas reseñas"
      ],
      "metadata": {
        "id": "dSr6LA0rslG0"
      }
    },
    {
      "cell_type": "code",
      "source": [
        "# Nuevas reseñas para probar el modelo\n",
        "new_reviews = [\n",
        "    \"This product is amazing! I love it and will definitely buy again.\",\n",
        "    \"Terrible experience. The product broke after one use.\",\n",
        "    \"Not bad, but could be better. The quality is okay.\",\n",
        "    \"Excellent quality and fast shipping. Highly recommend this!\",\n",
        "    \"Waste of money. I'm very disappointed.\",\n",
        "    \"Absolutely fantastic! Exceeded my expectations in every way.\",\n",
        "    \"Horrible service, and the product arrived damaged.\",\n",
        "    \"Pretty decent for the price. Satisfied with the purchase.\",\n",
        "    \"I am thrilled with this product! It's exactly what I needed.\",\n",
        "    \"The worst purchase I've ever made. Completely useless.\",\n",
        "    \"Superb quality and very durable. Will buy more in the future.\",\n",
        "    \"Not worth the money. Very low quality and unreliable.\",\n",
        "    \"Great value for money. Performs well and looks good.\",\n",
        "    \"Very unhappy with this product. It stopped working after a week.\",\n",
        "    \"Love it! The design is sleek and it works perfectly.\",\n",
        "    \"Terrible. It didn't work as advertised and customer service was unhelpful.\"\n",
        "]"
      ],
      "metadata": {
        "id": "FPL4kmqosoI-"
      },
      "execution_count": 49,
      "outputs": []
    },
    {
      "cell_type": "markdown",
      "source": [
        "## 7.2 Tokenizado de las nuevas reseñas"
      ],
      "metadata": {
        "id": "NZtl7WibspyJ"
      }
    },
    {
      "cell_type": "code",
      "source": [
        "# Tokenizar las nuevas reseñas\n",
        "tokenized_new_reviews = tokenizer(new_reviews, padding=\"max_length\", truncation=True, return_tensors=\"pt\").to(device)"
      ],
      "metadata": {
        "id": "60JpVwG-swbj"
      },
      "execution_count": 50,
      "outputs": []
    },
    {
      "cell_type": "markdown",
      "source": [
        "## 7.3 Realización y obtención de predicciones"
      ],
      "metadata": {
        "id": "b-VAorZrszn2"
      }
    },
    {
      "cell_type": "code",
      "source": [
        "# Hacer predicciones\n",
        "model.eval()  # Colocamos el modelo en modo de evaluación\n",
        "with torch.no_grad(): # Ya que no se necesita calcular gradientes durante la inferencia.\n",
        "    outputs = model(**tokenized_new_reviews)\n",
        "\n",
        "# Obtener las predicciones\n",
        "predictions = torch.argmax(outputs.logits, dim=-1) # Las salidas del modelo son logits, que son las puntuaciones antes de aplicar una función de activación como softmax"
      ],
      "metadata": {
        "id": "B2XSQo05s8O8"
      },
      "execution_count": 51,
      "outputs": []
    },
    {
      "cell_type": "markdown",
      "source": [
        "## 7.4 Mapeo de predicciónes y muestra de resultados\n",
        "\n",
        "Los logits son valores continuos que representan la confianza del modelo en cada clase. Para nuestro caso, habran dos logits por reseña y como tenemos dos etiquetas, se referencia a una clase predicha (Reseña positiva o negativa) por lo que  definimos estos labels y para cada nueva review traducimos la predicción."
      ],
      "metadata": {
        "id": "OFmz_-dCtA13"
      }
    },
    {
      "cell_type": "code",
      "source": [
        "# Mapear predicciones a etiquetas\n",
        "labels = [\"Negative\", \"Positive\"]\n",
        "predicted_labels = [labels[prediction] for prediction in predictions]\n",
        "\n",
        "# Mostrar las reseñas y sus predicciones correspondientes\n",
        "for review, label in zip(new_reviews, predicted_labels):\n",
        "    print(f\"Review: {review}\")\n",
        "    print(f\"Predicted Sentiment: {label}\")\n",
        "    print(\"-\" * 50)"
      ],
      "metadata": {
        "id": "ZhQtis7pXt34",
        "colab": {
          "base_uri": "https://localhost:8080/"
        },
        "outputId": "1a004b35-4601-413e-b33d-095b3b632817"
      },
      "execution_count": 52,
      "outputs": [
        {
          "output_type": "stream",
          "name": "stdout",
          "text": [
            "Review: This product is amazing! I love it and will definitely buy again.\n",
            "Predicted Sentiment: Positive\n",
            "--------------------------------------------------\n",
            "Review: Terrible experience. The product broke after one use.\n",
            "Predicted Sentiment: Negative\n",
            "--------------------------------------------------\n",
            "Review: Not bad, but could be better. The quality is okay.\n",
            "Predicted Sentiment: Positive\n",
            "--------------------------------------------------\n",
            "Review: Excellent quality and fast shipping. Highly recommend this!\n",
            "Predicted Sentiment: Positive\n",
            "--------------------------------------------------\n",
            "Review: Waste of money. I'm very disappointed.\n",
            "Predicted Sentiment: Negative\n",
            "--------------------------------------------------\n",
            "Review: Absolutely fantastic! Exceeded my expectations in every way.\n",
            "Predicted Sentiment: Positive\n",
            "--------------------------------------------------\n",
            "Review: Horrible service, and the product arrived damaged.\n",
            "Predicted Sentiment: Negative\n",
            "--------------------------------------------------\n",
            "Review: Pretty decent for the price. Satisfied with the purchase.\n",
            "Predicted Sentiment: Positive\n",
            "--------------------------------------------------\n",
            "Review: I am thrilled with this product! It's exactly what I needed.\n",
            "Predicted Sentiment: Positive\n",
            "--------------------------------------------------\n",
            "Review: The worst purchase I've ever made. Completely useless.\n",
            "Predicted Sentiment: Negative\n",
            "--------------------------------------------------\n",
            "Review: Superb quality and very durable. Will buy more in the future.\n",
            "Predicted Sentiment: Positive\n",
            "--------------------------------------------------\n",
            "Review: Not worth the money. Very low quality and unreliable.\n",
            "Predicted Sentiment: Negative\n",
            "--------------------------------------------------\n",
            "Review: Great value for money. Performs well and looks good.\n",
            "Predicted Sentiment: Positive\n",
            "--------------------------------------------------\n",
            "Review: Very unhappy with this product. It stopped working after a week.\n",
            "Predicted Sentiment: Negative\n",
            "--------------------------------------------------\n",
            "Review: Love it! The design is sleek and it works perfectly.\n",
            "Predicted Sentiment: Positive\n",
            "--------------------------------------------------\n",
            "Review: Terrible. It didn't work as advertised and customer service was unhelpful.\n",
            "Predicted Sentiment: Negative\n",
            "--------------------------------------------------\n"
          ]
        }
      ]
    }
  ]
}